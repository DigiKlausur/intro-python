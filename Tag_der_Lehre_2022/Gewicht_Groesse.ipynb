{
 "cells": [
  {
   "cell_type": "markdown",
   "metadata": {
    "slideshow": {
     "slide_type": "slide"
    }
   },
   "source": [
    "# Learning Interactive\n",
    "## e2x als ein praktisches Beispiel zur Integration von modernen SW-Werkzeugen in den Lehr- / Lernbetrieb\n",
    "\n",
    "#### Prof. Dr. Paul G. Plöger, Mohammad Wasil, Tim Metzler"
   ]
  },
  {
   "cell_type": "markdown",
   "metadata": {
    "slideshow": {
     "slide_type": "slide"
    }
   },
   "source": [
    "# Constructive Alignment\n",
    "\n",
    "![constructive_alignment](https://www.tum.de/fileadmin/user_upload_87/_processed_/7/a/csm_Constructive_Alignment_prolehre_e00f2b3c69.webp)\n",
    "\n",
    "Quelle: [TUM](https://www.tum.de/en/studies/teaching/teaching-methods/teaching-design/factors-for-success)"
   ]
  },
  {
   "cell_type": "markdown",
   "metadata": {
    "slideshow": {
     "slide_type": "slide"
    }
   },
   "source": [
    "## Was machen wir?\n",
    "\n",
    "- JupyterHub\n",
    "- Elektronische Klausuren und Übungen\n",
    "- Interaktive Vorlesungen mit Jupyter Notebook\n",
    "\n",
    "## Jupyter Notebook\n",
    "\n",
    "Jupyter Notebooks kombinieren Live-Code, Gleichungen, Text, Visualisierungen, interaktive Dashboards und andere Medien."
   ]
  },
  {
   "cell_type": "markdown",
   "metadata": {
    "slideshow": {
     "slide_type": "slide"
    }
   },
   "source": [
    "## Beispiel: Vorlesung Statistik\n",
    "\n",
    "### Thema: Datenanalyse mit echten Daten\n",
    "\n",
    "Beschreibung der Daten:\n",
    "\n",
    "Der Datensatz enthält Umfrageergebnisse einer Gesundheitsumfrage unter Jugendlichen und jungen Erwachsenen aus den USA    \n",
    "\n",
    "Quelle: [University of Michigan: Data Sharing for Demographic Research](https://www.icpsr.umich.edu/icpsrweb/DSDR/studies/21600)."
   ]
  },
  {
   "cell_type": "code",
   "execution_count": null,
   "metadata": {
    "slideshow": {
     "slide_type": "skip"
    }
   },
   "outputs": [],
   "source": [
    "from itables import init_notebook_mode\n",
    "from bokeh.io import output_notebook, show\n",
    "from bokeh.plotting import figure\n",
    "from bokeh.transform import transform\n",
    "from bokeh.models import LinearColorMapper, ColorBar\n",
    "\n",
    "output_notebook()\n",
    "\n",
    "\n",
    "init_notebook_mode(all_interactive=True)"
   ]
  },
  {
   "cell_type": "code",
   "execution_count": null,
   "metadata": {
    "scrolled": false,
    "slideshow": {
     "slide_type": "slide"
    }
   },
   "outputs": [],
   "source": [
    "import pandas as pd\n",
    "daten = pd.read_csv('daten.csv').set_index('AID')\n",
    "daten.head(1000)"
   ]
  },
  {
   "cell_type": "code",
   "execution_count": null,
   "metadata": {
    "slideshow": {
     "slide_type": "slide"
    }
   },
   "outputs": [],
   "source": [
    "from plots import plot_piechart\n",
    "from bokeh.layouts import row\n",
    "\n",
    "# Wir betrachten die Merkmale Geburtsjahr und Geschlecht\n",
    "show(row(plot_piechart(daten, 'Geburtsjahr'), plot_piechart(daten, 'Geschlecht')))"
   ]
  },
  {
   "cell_type": "code",
   "execution_count": null,
   "metadata": {
    "slideshow": {
     "slide_type": "slide"
    }
   },
   "outputs": [],
   "source": [
    "from plots import plot_merkmale\n",
    "# Zeige Größe vs Gewicht\n",
    "show(plot_merkmale(daten, x=\"Gewicht\", x_label=\"Gewicht (kg)\", y=\"Groesse\", y_label=\"Größe (cm)\",\n",
    "     sliders=['Gewicht', 'Groesse'], colorbar='Geburtsjahr', categorical=['Geschlecht']))"
   ]
  },
  {
   "cell_type": "code",
   "execution_count": null,
   "metadata": {
    "slideshow": {
     "slide_type": "slide"
    }
   },
   "outputs": [],
   "source": [
    "# Daten aufbereiten\n",
    "daten_cleaned = daten.loc[daten.Gewicht <= 250].loc[daten.Groesse <= 300]\n",
    "# Zeige Größe vs Gewicht\n",
    "show(plot_merkmale(daten_cleaned, x=\"Gewicht\", x_label=\"Gewicht (kg)\", y=\"Groesse\", y_label=\"Größe (cm)\",\n",
    "                   colorbar='Geburtsjahr', categorical=['Geschlecht']))"
   ]
  },
  {
   "cell_type": "code",
   "execution_count": null,
   "metadata": {
    "slideshow": {
     "slide_type": "slide"
    }
   },
   "outputs": [],
   "source": [
    "# Berechnung des BMI\n",
    "daten_cleaned['BMI'] = daten_cleaned.Gewicht / (daten_cleaned.Groesse / 100)**2\n",
    "# Zeige BMI\n",
    "show(plot_merkmale(daten_cleaned, x=\"Gewicht\", x_label=\"Gewicht (kg)\", \n",
    "                   y=\"Groesse\", y_label=\"Größe (cm)\", sliders=[], ranges=['BMI'], \n",
    "                   colorbar='BMI', categorical=['Geschlecht']))"
   ]
  },
  {
   "cell_type": "code",
   "execution_count": null,
   "metadata": {
    "slideshow": {
     "slide_type": "slide"
    }
   },
   "outputs": [],
   "source": [
    "from plots import plot_histogram\n",
    "# Aufteilen der Daten\n",
    "men = daten_cleaned.loc[daten_cleaned.Geschlecht == 'Male']\n",
    "women = daten_cleaned.loc[daten_cleaned.Geschlecht == 'Female']\n",
    "\n",
    "show(row(plot_histogram(men, 'Groesse', bins=20, title=\"Größe Männer\"), \n",
    "         plot_histogram(women, 'Groesse', title=\"Größe Frauen\", bins=20)))"
   ]
  },
  {
   "cell_type": "code",
   "execution_count": null,
   "metadata": {
    "slideshow": {
     "slide_type": "slide"
    }
   },
   "outputs": [],
   "source": [
    "from plots import plot_histogram\n",
    "\n",
    "show(row(plot_histogram(men, 'Gewicht', bins=20, title=\"Gewicht Männer\"), \n",
    "         plot_histogram(women, 'Gewicht', title=\"Gewicht Frauen\", bins=20)))"
   ]
  },
  {
   "cell_type": "code",
   "execution_count": null,
   "metadata": {
    "slideshow": {
     "slide_type": "slide"
    }
   },
   "outputs": [],
   "source": [
    "from plots import plot_histogram\n",
    "\n",
    "show(row(plot_histogram(men, \"BMI\", bins=20,\n",
    "                       title=\"Histogram BMI Männer\"), plot_histogram(women, \"BMI\", title=\"Histogram BMI Frauen\", bins=20)))"
   ]
  },
  {
   "cell_type": "markdown",
   "metadata": {
    "slideshow": {
     "slide_type": "slide"
    }
   },
   "source": [
    "## Alles hier gezeigt ist in **Klausuren**, **Übungen** und **Vorlesungen** möglich"
   ]
  },
  {
   "cell_type": "markdown",
   "metadata": {
    "slideshow": {
     "slide_type": "slide"
    }
   },
   "source": [
    "## Try it out yourself\n",
    "\n",
    "## [https://t1p.de/e2x](https://t1p.de/e2x)\n",
    "\n",
    "![https://t1p.de/e2x](QR_Code_t1p-de-e2x.png \"https://t1p.de/e2x\")"
   ]
  }
 ],
 "metadata": {
  "celltoolbar": "Slideshow",
  "kernelspec": {
   "display_name": "Python 3",
   "language": "python",
   "name": "python3"
  },
  "language_info": {
   "codemirror_mode": {
    "name": "ipython",
    "version": 3
   },
   "file_extension": ".py",
   "mimetype": "text/x-python",
   "name": "python",
   "nbconvert_exporter": "python",
   "pygments_lexer": "ipython3",
   "version": "3.8.10"
  }
 },
 "nbformat": 4,
 "nbformat_minor": 5
}
